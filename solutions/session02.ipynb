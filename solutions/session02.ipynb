{
 "cells": [
  {
   "cell_type": "markdown",
   "id": "c5e44234",
   "metadata": {},
   "source": [
    "# Solutions for Session 2's Practice Problems"
   ]
  },
  {
   "cell_type": "markdown",
   "id": "67bd0c6f",
   "metadata": {},
   "source": [
    "## 1\n",
    "\n",
    "**Analyze the time and space complexity of Gaussian elimination.**\n",
    "\n",
    "- Time: $O(n^3)$:\n",
    "    - ~Half the matrix entries need to be turned to zeros, that is $O(n^2)$ zeros\n",
    "    - Each zeroing requires rewriting a full row as a linear combination of two rows ($O(n)$ operations).\n",
    "- Space: $O(1)$ if the elimination is done in-place."
   ]
  },
  {
   "cell_type": "markdown",
   "id": "39edf5a5",
   "metadata": {},
   "source": [
    "## 2\n",
    "\n",
    "**Find the time complexity of inserting an element in the middle of:**\n",
    "\n",
    "- **A linked list**: $O(n)$ to go to the desired location, plus $O(1)$ to insert the element there.\n",
    "- **A `numpy` vector**: $O(1)$ to go to the desired location, plus $O(n)$ to insert the element, since all elements to the right of it need to be shifted by one position (remember that `numpy` arrays are stored contiguously in memory)"
   ]
  },
  {
   "cell_type": "markdown",
   "id": "846ed5fb",
   "metadata": {},
   "source": [
    "## 3\n",
    "\n",
    "**Project management: we need to assign three roles to three hires in a startup, where:**\n",
    "\n",
    "$$\n",
    "\\begin{cases}\n",
    "\\textbf{John} \\text{ can do either web development or data analytics} \\\\\n",
    "\\textbf{Cathy} \\text{ can do either data analytics or data engineering} \\\\\n",
    "\\textbf{David} \\text{ is an expert in web development and only wants to do that} \\\\\n",
    "\\text{Every task needs to be done by exactly one person}\n",
    "\\end{cases}\n",
    "$$\n",
    "\n",
    "**Reduce this to a SAT problem.**\n",
    "\n",
    "Let's write the people as J, C, D and the roles as W, A, E. $JW$ means \"John does the web development\", $CA$ means \"Cathy does the data analytics\", etc.\n",
    "\n",
    "The logical constraints are:\n",
    "\n",
    "- Worker capacities: $(JW \\lor JA) \\land (CA \\lor CE) \\land DW$\n",
    "- Exactly one person must do the web dev: $((JW \\land \\neg CW \\land \\neg DW) \\lor (\\neg JW \\land CW \\land \\neg DW) \\lor (\\neg JW \\land \\neg CW \\land DW))$\n",
    "    - Similarly for data analytics and data engineering.\n",
    "\n",
    "The final formula is the conjunction ($\\land$) of all constraints.\n",
    "\n",
    "**Reduce this to a max-flow problem.**\n",
    "\n",
    "```{mermaid}\n",
    "flowchart LR\n",
    "  Source((Source))\n",
    "\n",
    "  subgraph Workers[Workers]\n",
    "    J[John]\n",
    "    C[Cathy]\n",
    "    D[David]\n",
    "  end\n",
    "\n",
    "  Source -->|2| J\n",
    "  Source -->|2| C\n",
    "  Source -->|1| D\n",
    "\n",
    "  subgraph Roles[Roles]\n",
    "    Webdev[Webdev]\n",
    "    DA[DA]\n",
    "    DE[DE]\n",
    "  end\n",
    "\n",
    "  J -->|1| Webdev\n",
    "  J -->|1| DA\n",
    "\n",
    "  C -->|1| DA\n",
    "  C -->|1| DE\n",
    "\n",
    "  D -->|1| Webdev\n",
    "\n",
    "  Webdev -->|1| Sink((Sink))\n",
    "  DA -->|1| Sink\n",
    "  DE -->|1| Sink\n",
    "\n",
    "```\n"
   ]
  },
  {
   "cell_type": "markdown",
   "id": "c3c5f040",
   "metadata": {},
   "source": [
    "## 4\n",
    "\n",
    "**Which of the following problems are in NP?**\n",
    "\n",
    "To be in NP, it means that checking a candidate solution must be fast, i.e. $O(n^k)$ for some $k$. It turns out that *all* the following are in NP:\n",
    "\n",
    "**a) Find whether there is a Hamiltonian path in a given graph**\n",
    "\n",
    "✅ Given a path proposal, it is quick to check if it's a valid path that visits all vertices.\n",
    "\n",
    "**b) Find whether two nodes in a graph are connected**\n",
    "\n",
    "✅ Again, a solution must consist of a path; checking it does connect $A$ with $B$ is very fast.\n",
    "\n",
    "**c) Find whether a vector $\\mathbf{v}$ is an eigenvector of a matrix $A$**\n",
    "\n",
    "✅ Just check whether $A \\mathbf{v}$ is a multiple of $\\mathbf{v}$.\n",
    "\n",
    "**d) On a chessboard, find whether white can checkmate in four moves.**\n",
    "\n",
    "✅ A proposed solution will be a sequence of four movements. We just need to check if they are valid and lead to checkmate; that's $O(1)$.\n",
    "\n",
    "**e) Check if a neural network classifier can be trained to $\\ge 99\\%$ accuracy**\n",
    "\n",
    "✅ A proposed solution will be an instance of the trained classifier. It is fast to measure its accuracy and answer if it is above $99\\%$.\n"
   ]
  }
 ],
 "metadata": {
  "kernelspec": {
   "display_name": ".venv",
   "language": "python",
   "name": "python3"
  },
  "language_info": {
   "name": "python",
   "version": "3.13.5"
  }
 },
 "nbformat": 4,
 "nbformat_minor": 5
}

{
 "cells": [
  {
   "cell_type": "markdown",
   "id": "4c9174d4",
   "metadata": {},
   "source": [
    "## 1\n",
    "\n",
    "```\n",
    "0 0 0 0 0\n",
    "0 3 3 3 3\n",
    "0 3 6 6 6\n",
    "0 3 6 6 7\n",
    "0 3 6 6 7\n",
    "```\n",
    "\n",
    "## 2"
   ]
  },
  {
   "cell_type": "code",
   "execution_count": 8,
   "id": "6be77915",
   "metadata": {},
   "outputs": [
    {
     "name": "stdout",
     "output_type": "stream",
     "text": [
      "[[1. 0. 0. 0. 0. 0. 0.]\n",
      " [1. 1. 0. 0. 0. 0. 0.]\n",
      " [1. 1. 1. 1. 0. 0. 0.]\n",
      " [1. 1. 1. 2. 1. 1. 1.]\n",
      " [1. 1. 1. 2. 2. 2. 2.]\n",
      " [1. 1. 1. 2. 2. 3. 3.]]\n"
     ]
    }
   ],
   "source": [
    "import numpy as np\n",
    "weights = [1, 2, 3, 4, 5]\n",
    "a = 6\n",
    "M = np.zeros([len(weights)+1, a+1])\n",
    "M[0, 0] = 1\n",
    "for i in range(1, len(weights)+1):\n",
    "    for j in range(a+1):\n",
    "        ways = M[i-1, j]\n",
    "        if j >= weights[i-1]:  # We are able to add the current weight\n",
    "            ways += M[i-1, j-weights[i-1]]\n",
    "        M[i, j] = ways\n",
    "print(M)"
   ]
  },
  {
   "cell_type": "markdown",
   "id": "a6d7e2f9",
   "metadata": {},
   "source": [
    "## 3\n",
    "\n",
    "We keep a vector of size $n+1$: at each cell $i$ we store the maximum possible value that the robber can reach by robbing houses up to $i$ (not including $i$)."
   ]
  },
  {
   "cell_type": "code",
   "execution_count": 22,
   "id": "67b26b77",
   "metadata": {},
   "outputs": [
    {
     "name": "stdout",
     "output_type": "stream",
     "text": [
      "[0. 1. 4. 6. 6.]\n"
     ]
    }
   ],
   "source": [
    "m = [1, 4,  5, 2]\n",
    "sol = np.zeros(len(m)+1)\n",
    "sol[1] = m[0]\n",
    "for i in range(2, len(m)+1):\n",
    "    sol[i] = max(sol[i-1], sol[i-2]+m[i-1])\n",
    "print(sol)\n"
   ]
  },
  {
   "cell_type": "markdown",
   "id": "06c5fe87",
   "metadata": {},
   "source": [
    "## 4"
   ]
  },
  {
   "cell_type": "code",
   "execution_count": 21,
   "id": "9ae47766",
   "metadata": {},
   "outputs": [
    {
     "data": {
      "text/plain": [
       "21"
      ]
     },
     "execution_count": 21,
     "metadata": {},
     "output_type": "execute_result"
    }
   ],
   "source": [
    "s = [1, 3, 3, 3, 1]\n",
    "\n",
    "def f(lower, upper):\n",
    "    # Find best possible time to multiply matrices from lower to upper (including both)\n",
    "    if lower == upper:\n",
    "        # Base case: only one matrix, no multiplication is needed\n",
    "        return 0\n",
    "    best = float('inf')\n",
    "    for i in range(lower, upper):\n",
    "        # We try all possible places to split the product\n",
    "        current = f(lower, i) + f(i+1, upper) + s[lower]*s[i+1]*s[i+2]\n",
    "        best = min(best, current)\n",
    "    return best\n",
    "\n",
    "f(0, len(s)-2)"
   ]
  },
  {
   "cell_type": "markdown",
   "id": "bc882cd0",
   "metadata": {},
   "source": [
    "## 5\n",
    "\n",
    "The subset sum problem can be reduced to the summing weights problem at target weight $a = 0$ and allowing for negative weights. Note that the solution matrix has to be large enough to accommodate the lowest possible sum of weights (which equals the sum of all negative weights) and the highest possible sum of weights (= sum of all positive weights).\n",
    "\n",
    "## 6\n",
    "\n",
    "If the weights are integer and we target weight $a$, we know there's at most $a+1$ possible different sums of weights that we care about. But if they are decimal, there can be up to $2^n$ different sums of weights (where $n$ is the number of weights) that are below $a$.\n",
    "\n",
    "This can be remedied by quantizing the weights. For example, if weights are in $[0, 1]$ we can map each weight as follows: $w_i \\to \\text{round}(100 w_i)$. This bounds the number of possible sums, at the expense of some accuracy (we now have an approximate algorithm)."
   ]
  }
 ],
 "metadata": {
  "kernelspec": {
   "display_name": ".venv",
   "language": "python",
   "name": "python3"
  },
  "language_info": {
   "codemirror_mode": {
    "name": "ipython",
    "version": 3
   },
   "file_extension": ".py",
   "mimetype": "text/x-python",
   "name": "python",
   "nbconvert_exporter": "python",
   "pygments_lexer": "ipython3",
   "version": "3.13.5"
  }
 },
 "nbformat": 4,
 "nbformat_minor": 5
}

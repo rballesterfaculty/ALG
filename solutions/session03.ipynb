{
 "cells": [
  {
   "cell_type": "markdown",
   "id": "ad61e153",
   "metadata": {},
   "source": [
    "# Solutions for Session 3's Practice Problems"
   ]
  },
  {
   "cell_type": "markdown",
   "id": "735b53c5",
   "metadata": {},
   "source": [
    "## 1\n",
    "\n",
    "```{mermaid}\n",
    "graph TD\n",
    "    d((d))\n",
    "    b((b))\n",
    "    f((f))\n",
    "    a((a))\n",
    "    c((c))\n",
    "    e((e))\n",
    "    g((g))\n",
    "\n",
    "    d --> b\n",
    "    d --> f\n",
    "    b --> a\n",
    "    b --> c\n",
    "    f --> e\n",
    "    f --> g\n",
    "```"
   ]
  },
  {
   "cell_type": "markdown",
   "id": "890938f8",
   "metadata": {},
   "source": [
    "## 2\n",
    "\n",
    "| Data Structure        | Properties                          |\n",
    "|-----------------------|-------------------------------------|\n",
    "| Binary Search Tree    | Access $O(\\log n)$, insertion $O(\\log n)$ |\n",
    "| Linked List           | Access $O(n)$, insertion $O(1)$    |\n",
    "| Sorted Array           | Search $O(\\log n)$, insertion $O(n)$ |\n",
    "| Hash Table            | Access $O(1)$, insertion $O(1)$    |\n",
    "| Array                 | Access $O(1)$, insertion $O(n)$    |\n",
    "\n"
   ]
  },
  {
   "cell_type": "markdown",
   "id": "938a6bc9",
   "metadata": {},
   "source": [
    "## 3\n",
    "\n",
    "### Chaining\n",
    "\n",
    "| Slot | Elements |\n",
    "|-----|---------|\n",
    "| 0    |  -        |\n",
    "| 1    | 8 → 15   |\n",
    "| 2    | 9        |\n",
    "| 3    | 3        |\n",
    "| 4    | 25       |\n",
    "| 5    |  -        |\n",
    "| 6    | 20       |\n",
    "\n",
    "\n",
    "\n",
    "### Linear Probing\n",
    "\n",
    "| Slot | Value |\n",
    "|------|-------|\n",
    "| 0    | -      |\n",
    "| 1    | 8     |\n",
    "| 2    | 9     |\n",
    "| 3    | 15    |\n",
    "| 4    | 25    |\n",
    "| 5    | 3     |\n",
    "| 6    | 20    |\n",
    "\n",
    "### Quadratic Probing\n",
    "\n",
    "| Slot | Value |\n",
    "|------|-------|\n",
    "| 0    | -      |\n",
    "| 1    | 8     |\n",
    "| 2    | 9     |\n",
    "| 3    | 3     |\n",
    "| 4    | 25    |\n",
    "| 5    | 15    |\n",
    "| 6    | 20    |\n"
   ]
  },
  {
   "cell_type": "markdown",
   "id": "08e9343b",
   "metadata": {},
   "source": [
    "## 4"
   ]
  },
  {
   "cell_type": "code",
   "execution_count": 9,
   "id": "92523025",
   "metadata": {},
   "outputs": [
    {
     "name": "stdout",
     "output_type": "stream",
     "text": [
      "3 10\n"
     ]
    }
   ],
   "source": [
    "import numpy as np\n",
    "x = [1, 2, 3, 4, 5, 6, 7, 8, 9, 10]\n",
    "cumulative = np.cumsum(x)  # Takes O(n) time\n",
    "cumulative = np.concatenate([[0], cumulative])  # Takes O(n) time\n",
    "# Now, cumulative[j] - cumulative[i] will give us the sum of the subarray x[i:j]\n",
    "warmest_start = 0\n",
    "warmest_end = 7\n",
    "warmest_sum = float('-inf')\n",
    "for i in range(len(cumulative)-7):\n",
    "    current_sum = cumulative[i+7]-cumulative[i]\n",
    "    if current_sum > warmest_sum:\n",
    "        warmest_sum = current_sum\n",
    "        warmest_start = i\n",
    "        warmest_end = i+7\n",
    "\n",
    "print(warmest_start, warmest_end)\n"
   ]
  },
  {
   "cell_type": "markdown",
   "id": "3e271b3d",
   "metadata": {},
   "source": [
    "## 5"
   ]
  },
  {
   "cell_type": "code",
   "execution_count": 11,
   "id": "00587329",
   "metadata": {},
   "outputs": [
    {
     "data": {
      "text/plain": [
       "array([[1, 2, 3],\n",
       "       [2, 4, 6],\n",
       "       [3, 6, 9]])"
      ]
     },
     "execution_count": 11,
     "metadata": {},
     "output_type": "execute_result"
    }
   ],
   "source": [
    "import numpy as np\n",
    "a = np.array([1, 2, 3])\n",
    "a[:, None]*a[None, :]"
   ]
  }
 ],
 "metadata": {
  "kernelspec": {
   "display_name": ".venv",
   "language": "python",
   "name": "python3"
  },
  "language_info": {
   "codemirror_mode": {
    "name": "ipython",
    "version": 3
   },
   "file_extension": ".py",
   "mimetype": "text/x-python",
   "name": "python",
   "nbconvert_exporter": "python",
   "pygments_lexer": "ipython3",
   "version": "3.13.5"
  }
 },
 "nbformat": 4,
 "nbformat_minor": 5
}

{
 "cells": [
  {
   "cell_type": "markdown",
   "id": "e84ca9b3",
   "metadata": {},
   "source": [
    "## 1\n",
    "\n",
    "We can run Floyd-Warshall to get the minimal distances between any pair of vertices (an $n \\times n$ matrix). Then, pick the maximum of that matrix.\n",
    "\n",
    "## 2\n",
    "\n",
    "First, calculate the differences between all contiguous pairs of elements in the price array (for example, the function `np.diff` does this). Then, find the maximum subarray sum in the resulting array.\n",
    "\n",
    "## 3\n",
    "\n",
    "Finding a vector $\\boldsymbol{u}$ in the null of space of $I$ means that the graph has a cycle, and the edges that form that cycle are reflected by the non-zero entries of $\\boldsymbol{u}$.\n",
    "\n",
    "## 4\n",
    "\n",
    "The algorithm will add node 1, then stop and output *\"cycle detected!\"* since it won't find any further node that has no incoming dependences.\n",
    "\n",
    "## 5"
   ]
  },
  {
   "cell_type": "code",
   "execution_count": 14,
   "id": "a52533f9",
   "metadata": {},
   "outputs": [
    {
     "data": {
      "text/plain": [
       "3.0000049805467555"
      ]
     },
     "execution_count": 14,
     "metadata": {},
     "output_type": "execute_result"
    }
   ],
   "source": [
    "h = 1e-3\n",
    "\n",
    "def derive(x, order):\n",
    "    if order == 0:\n",
    "        return x**x\n",
    "    return (derive(x+h, order-1) - derive(x-h, order-1)) / (2*h)\n",
    "\n",
    "derive(x=1, order=3)"
   ]
  },
  {
   "cell_type": "markdown",
   "id": "1aa73b55",
   "metadata": {},
   "source": [
    "## 6"
   ]
  },
  {
   "cell_type": "code",
   "execution_count": 2,
   "id": "fbf64511",
   "metadata": {},
   "outputs": [
    {
     "name": "stdout",
     "output_type": "stream",
     "text": [
      "5\n",
      "4\n",
      "3\n",
      "2\n",
      "1\n"
     ]
    }
   ],
   "source": [
    "x = [1, 2, 3, 4, 5]\n",
    "\n",
    "def f(x):\n",
    "    if len(x) == 0:\n",
    "        return\n",
    "    print(x[-1])\n",
    "    f(x[:-1])\n",
    "\n",
    "f(x)"
   ]
  },
  {
   "cell_type": "markdown",
   "id": "db8f3d39",
   "metadata": {},
   "source": [
    "The master theorem doesn't apply here because it needs each task to be divided in size by a factor $b$, where $b$ doesn't depend on $n$. In this algorithm, the subtask has size $n-1$; that's not a constant reduction factor."
   ]
  },
  {
   "cell_type": "markdown",
   "id": "35438819",
   "metadata": {},
   "source": [
    "## 7\n",
    "\n",
    "The time complexity is $O(n W)$: there are $(n+1)*(W+1)$ entries to be filled, and each entry requires summing $2$ entries from the row above it.\n",
    "\n",
    "The problem is still not in $P$ (i.e. solvable in polynomial time) because $W$ is the *numeric* value of the intput, not the actual *size* $S$ of the input which is $S = O(\\log_2 W)$. Remember complexity is always measured in terms of the input size. Therefore, the algorithm's complexity is still $O(2^S)$.\n",
    "\n",
    "## 8\n",
    "\n",
    "We need to apply a breadth-first search (BFS) starting from the root. We don't even need to keep a list of visited nodes, because there are no cycles in a tree, so there's no way to ever repeat a node:"
   ]
  },
  {
   "cell_type": "code",
   "execution_count": 4,
   "id": "60934675",
   "metadata": {},
   "outputs": [],
   "source": [
    "from collections import deque\n",
    "\n",
    "queue = deque()\n",
    "\n",
    "while True:\n",
    "    if len(queue) > 0:\n",
    "        node = queue.popleft()\n",
    "        print(node)\n",
    "    else:\n",
    "        break\n",
    "    queue.append(node.left)\n",
    "    queue.append(node.right)"
   ]
  },
  {
   "cell_type": "markdown",
   "id": "43197f77",
   "metadata": {},
   "source": [
    "## 9\n",
    "\n",
    "a. Using DFS, in the worst case node 7 could be the very last node to be visited. Therefore, the answer is 16.\n",
    "\n",
    "b. Using BFS, nodes 4, 7, 10 and 13 are all 3 hops away from node 1. In the worst case, 7 will be the last one to be visited in that layer. That's a total of 1 (layer 0) + 2 (layer 1) + 3 (layer 2) + 4 (layer 3) = 10 nodes visited.\n",
    "\n",
    "## 10\n",
    "\n",
    "The number of ways to reach any amount $a$ will be the number of ways we can reach $a-2$ (if we decide to add a 2-euro coin at this step) plus the number of ways we can reach $a-1$ (if we decide to add a 1-euro coin at this step). In other words, it's the Fibonacci sequence, and $f(6) = 13$.\n",
    "\n",
    "## 11\n",
    "\n",
    "Consider the adjacency matrix $A$. We want to count the number of paths that start in any of the nodes $1, \\dots, K$ and end in node $N$, regardless of the path length $l$. We use the fact that the number of paths of length $l$ from any node $i$ to any node $j$ is given by $(A^l)_{ij}$, and sum over $l$:\n",
    "\n",
    "$$\\sum_{l=1}^{l=N-1} \\sum_{i=1}^{i=K} (A^l)_{i, N}$$\n",
    "\n",
    "## 12\n",
    "\n",
    "![](tree.png)"
   ]
  }
 ],
 "metadata": {
  "kernelspec": {
   "display_name": ".venv",
   "language": "python",
   "name": "python3"
  },
  "language_info": {
   "codemirror_mode": {
    "name": "ipython",
    "version": 3
   },
   "file_extension": ".py",
   "mimetype": "text/x-python",
   "name": "python",
   "nbconvert_exporter": "python",
   "pygments_lexer": "ipython3",
   "version": "3.13.5"
  }
 },
 "nbformat": 4,
 "nbformat_minor": 5
}

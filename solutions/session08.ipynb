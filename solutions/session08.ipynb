{
 "cells": [
  {
   "cell_type": "markdown",
   "id": "30cbbaee",
   "metadata": {},
   "source": [
    "1. Remove the root, put 10 in its place, sink 10 to take 3's place, then sink 3 to take 7's place.\n",
    "\n",
    "2.\n",
    "\n",
    "a. Euclidean distance to the target, divided by the highest possible speed limit.\n",
    "\n",
    "b. Same, but using Manhattan distance instead of Euclidean distance.\n",
    "\n",
    "c. Possible options: diameter of the graph comprised by the remaining nodes; distance from the current node to the barycenter of the remaining nodes; cost of the MST of the remaining nodes; etc.\n",
    "\n",
    "d. 3D Manhattan distance to the target\n",
    "\n",
    "e. Amount left until the target amount, divided by the denomination of the largest coin that hasn't been yet used.\n",
    "\n",
    "f. Elevation difference (in absolute value) between the current cell and the target cell."
   ]
  }
 ],
 "metadata": {
  "language_info": {
   "name": "python"
  }
 },
 "nbformat": 4,
 "nbformat_minor": 5
}
